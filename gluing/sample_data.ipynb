{
 "cells": [
  {
   "cell_type": "code",
   "execution_count": 5,
   "metadata": {},
   "outputs": [
    {
     "name": "stdout",
     "output_type": "stream",
     "text": [
      "level1 : 13  level2 : 6  level3 : 31  level4 : 14  level5 : 6\n",
      "level1 : 25  level2 : 11  level3 : 4  level4 : 23  level5 : 7\n",
      "level1 : 34  level2 : 3  level3 : 6  level4 : 23  level5 : 4\n",
      "level1 : 1  level2 : 20  level3 : 12  level4 : 28  level5 : 9\n",
      "level1 : 9  level2 : 4  level3 : 15  level4 : 30  level5 : 12\n"
     ]
    }
   ],
   "source": [
    "import pandas as pd\n",
    "import os\n",
    "import matplotlib.pyplot as plt\n",
    "import pandas as pd\n",
    "from collections import Counter\n",
    "\n",
    "path_dir = \"./area_raw\"\n",
    "\n",
    "program_list = os.listdir(path_dir)\n",
    "\n",
    "for i in range(len(program_list)):\n",
    "    program_name = program_list[i].replace(\".csv\", \"\")\n",
    "    data = pd.read_csv(path_dir + \"/\" + program_name + \".csv\")\n",
    "    num = 70\n",
    "    data_list = []\n",
    "    mean_data = pd.read_csv(\"./analyze/mean.csv\")\n",
    "    level_data = []\n",
    "    \n",
    "    for k in range(num):\n",
    "        data_list.append(float(data.iloc[k]))\n",
    "        \n",
    "    mean = float(mean_data['means'].iloc[i])\n",
    "    \n",
    "    level = pd.read_csv(\"./analyze/\" + program_name + \"_level.csv\")\n",
    "    \n",
    "    level1 = float(level.iloc[0])\n",
    "    level2 = float(level.iloc[1])\n",
    "    level3 = float(level.iloc[2])\n",
    "    level4 = float(level.iloc[3])\n",
    "\n",
    "        \n",
    "    for l in range(len(data_list)):\n",
    "        if mean-level1 <= data_list[l] <= mean+level1:\n",
    "            level_data.append(\"level1\") \n",
    "        elif (mean-level2 <= data_list[l] <= mean-level1) or (mean+level1 <= data_list[l] <= mean+level2):\n",
    "            level_data.append(\"level2\")\n",
    "        elif (mean-level3 <= data_list[l] <= mean-level2) or (mean+level2 <= data_list[l] <= mean+level3):\n",
    "            level_data.append(\"level3\")\n",
    "        elif (mean-level4 <= data_list[l] <= mean-level3) or (mean+level3 <= data_list[l] <= mean+level4):\n",
    "            level_data.append(\"level4\")\n",
    "        else:\n",
    "            level_data.append(\"level5\")\n",
    "    \n",
    "#    plt.plot(data_list)\n",
    "#    plt.title(program_name)\n",
    "#    plt.axhline(y=mean, color='k', linestyle='--', linewidth=1)\n",
    "#    plt.axhline(y=mean-level1, color = 'g', linestyle='--', linewidth=1)\n",
    "#    plt.axhline(y=mean+level1, color = 'g', linestyle='--', linewidth=1)\n",
    "#    plt.axhline(y=mean-level2, color = 'y', linestyle='--', linewidth=1)\n",
    "#    plt.axhline(y=mean+level3, color = 'y', linestyle='--', linewidth=1)\n",
    "#    plt.axhline(y=mean-level3, color = 'b', linestyle='--', linewidth=1)\n",
    "#    plt.axhline(y=mean+level3, color = 'b', linestyle='--', linewidth=1)\n",
    "#    plt.axhline(y=mean-level4, color = 'r', linestyle='--', linewidth=1)\n",
    "#    plt.axhline(y=mean+level4, color = 'r', linestyle='--', linewidth=1)\n",
    "#    plt.xlabel('Index')\n",
    "#    plt.ylabel('area data')\n",
    "#    plt.show()\n",
    "    \n",
    "    result = Counter(level_data)       \n",
    "    print(\"level1 : \" + str(result[\"level1\"]) + \"  level2 : \" + str(result[\"level2\"]) + \"  level3 : \" + str(result[\"level3\"]) + \"  level4 : \" + str(result[\"level4\"]) + \"  level5 : \" + str(result[\"level5\"]))"
   ]
  },
  {
   "cell_type": "code",
   "execution_count": null,
   "metadata": {},
   "outputs": [],
   "source": []
  }
 ],
 "metadata": {
  "kernelspec": {
   "display_name": "Python 3 (ipykernel)",
   "language": "python",
   "name": "python3"
  },
  "language_info": {
   "codemirror_mode": {
    "name": "ipython",
    "version": 3
   },
   "file_extension": ".py",
   "mimetype": "text/x-python",
   "name": "python",
   "nbconvert_exporter": "python",
   "pygments_lexer": "ipython3",
   "version": "3.7.0"
  }
 },
 "nbformat": 4,
 "nbformat_minor": 4
}
